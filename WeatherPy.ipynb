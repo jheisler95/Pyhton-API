{
 "cells": [
  {
   "cell_type": "markdown",
   "metadata": {},
   "source": [
    "# WeatherPy\n",
    "----\n",
    "\n",
    "#### Note\n",
    "* Instructions have been included for each segment. You do not have to follow them exactly, but they are included to help you think through the steps."
   ]
  },
  {
   "cell_type": "code",
   "execution_count": 81,
   "metadata": {
    "scrolled": true
   },
   "outputs": [],
   "source": [
    "# Dependencies and Setup\n",
    "import matplotlib.pyplot as plt\n",
    "import pandas as pd\n",
    "import numpy as np\n",
    "import requests\n",
    "import time \n",
    "import datetime\n",
    "from scipy.stats import linregress\n",
    "\n",
    "weather_api_key = \"c530a924f2c593218675c061f3dc6c75\"\n",
    "\n",
    "\n",
    "# Incorporated citipy to determine city based on latitude and longitude\n",
    "from citipy import citipy\n",
    "\n",
    "# Output File (CSV)\n",
    "output_data_file = \"output_data/cities.csv\"\n",
    "\n",
    "# Range of latitudes and longitudes\n",
    "lat_range = (-90, 90)\n",
    "lng_range = (-180, 180)"
   ]
  },
  {
   "cell_type": "markdown",
   "metadata": {},
   "source": [
    "## Generate Cities List"
   ]
  },
  {
   "cell_type": "code",
   "execution_count": 82,
   "metadata": {},
   "outputs": [
    {
     "name": "stdout",
     "output_type": "stream",
     "text": [
      "612\n"
     ]
    }
   ],
   "source": [
    "# List for holding lat_lngs and cities\n",
    "lat_lngs = []\n",
    "cities = []\n",
    "\n",
    "# Create a set of random lat and lng combinations\n",
    "lats = np.random.uniform(low=-90.000, high=90.000, size=1500)\n",
    "lngs = np.random.uniform(low=-180.000, high=180.000, size=1500)\n",
    "lat_lngs = zip(lats, lngs)\n",
    "\n",
    "# Identify nearest city for each lat, lng combination\n",
    "for lat_lng in lat_lngs:\n",
    "    city = citipy.nearest_city(lat_lng[0], lat_lng[1]).city_name\n",
    "    \n",
    "    # If the city is unique, then add it to a our cities list\n",
    "    if city not in cities:\n",
    "        cities.append(city)\n",
    "\n",
    "# Print the city count to confirm sufficient count\n",
    "lat_lngs_list = list(lat_lngs)\n",
    "#len(cities)\n",
    "print(len(cities))"
   ]
  },
  {
   "cell_type": "code",
   "execution_count": 68,
   "metadata": {},
   "outputs": [
    {
     "name": "stdout",
     "output_type": "stream",
     "text": [
      "Processing record 1|puerto ayacucho\n",
      "Processing record 2|launceston\n",
      "Processing record 3|hilo\n",
      "Processing record 4|merrill\n",
      "Processing record 5|mataura\n",
      "Processing record 6|saint-philippe\n",
      "City not found. skipping.\n",
      "Processing record 7|vao\n",
      "Processing record 8|georgetown\n",
      "Processing record 9|mahebourg\n",
      "Processing record 10|ushuaia\n",
      "Processing record 11|kodiak\n",
      "Processing record 12|tuktoyaktuk\n",
      "Processing record 13|chuy\n",
      "Processing record 14|muroto\n",
      "Processing record 15|biak\n",
      "Processing record 16|rikitea\n",
      "Processing record 17|warri\n",
      "Processing record 18|busselton\n",
      "Processing record 19|punta arenas\n",
      "Processing record 20|vaini\n",
      "Processing record 21|okato\n",
      "Processing record 22|khatanga\n",
      "Processing record 23|port alfred\n",
      "Processing record 24|marzuq\n",
      "Processing record 25|staraya poltavka\n",
      "Processing record 26|cape town\n",
      "Processing record 27|likhoslavl\n",
      "Processing record 28|bereda\n",
      "Processing record 29|lagoa\n",
      "Processing record 30|bredasdorp\n",
      "Processing record 31|palmares do sul\n",
      "Processing record 32|bluff\n",
      "Processing record 33|mar del plata\n",
      "Processing record 34|new norfolk\n",
      "Processing record 35|saint-augustin\n",
      "Processing record 36|komsomolskiy\n",
      "Processing record 37|hasaki\n",
      "Processing record 38|gimbi\n",
      "Processing record 39|albany\n",
      "City not found. skipping.\n",
      "Processing record 40|klaksvik\n",
      "Processing record 41|san cristobal\n",
      "Processing record 42|carnarvon\n",
      "Processing record 43|muravlenko\n",
      "Processing record 44|port elizabeth\n",
      "City not found. skipping.\n",
      "Processing record 45|hermanus\n",
      "Processing record 46|astana\n",
      "Processing record 47|mongoumba\n",
      "City not found. skipping.\n",
      "Processing record 48|sioux lookout\n",
      "Processing record 49|varhaug\n",
      "Processing record 50|baherden\n",
      "Processing record 51|adacs\n",
      "Processing record 52|pilar do sul\n",
      "Processing record 53|ribeira grande\n",
      "Processing record 54|mercedes\n",
      "Processing record 55|kavieng\n",
      "City not found. skipping.\n",
      "Processing record 56|thinadhoo\n",
      "Processing record 57|richards bay\n",
      "Processing record 58|bethel\n",
      "Processing record 59|buala\n",
      "Processing record 60|ancud\n",
      "City not found. skipping.\n",
      "Processing record 61|okha\n",
      "Processing record 62|kapaa\n",
      "Processing record 63|souillac\n",
      "Processing record 64|dubbo\n",
      "City not found. skipping.\n",
      "Processing record 65|adrar\n",
      "Processing record 66|beloha\n",
      "Processing record 67|zhigansk\n",
      "Processing record 68|huarmey\n",
      "Processing record 69|goedereede\n",
      "City not found. skipping.\n",
      "Processing record 70|monrovia\n",
      "Processing record 71|chabahar\n",
      "Processing record 72|tiksi\n",
      "Processing record 73|nueva guinea\n",
      "Processing record 74|vestmanna\n",
      "Processing record 75|lata\n",
      "Processing record 76|pevek\n",
      "Processing record 77|tuljapur\n",
      "Processing record 78|ryotsu\n",
      "Processing record 79|avarua\n",
      "Processing record 80|cabo san lucas\n",
      "Processing record 81|lasem\n",
      "City not found. skipping.\n",
      "Processing record 82|tabas\n",
      "Processing record 83|jamestown\n",
      "Processing record 84|cayenne\n",
      "Processing record 85|lorengau\n",
      "Processing record 86|torbay\n",
      "City not found. skipping.\n",
      "Processing record 87|synya\n",
      "Processing record 88|pasighat\n",
      "Processing record 89|luderitz\n",
      "Processing record 90|thompson\n",
      "Processing record 91|nuoro\n",
      "Processing record 92|inirida\n",
      "Processing record 93|sao jose da coroa grande\n",
      "Processing record 94|bahia blanca\n",
      "Processing record 95|kendari\n",
      "Processing record 96|smithers\n",
      "Processing record 97|thanh hoa\n",
      "Processing record 98|lebu\n",
      "Processing record 99|geraldton\n",
      "Processing record 100|ketchikan\n",
      "Processing record 101|ostrovnoy\n",
      "Processing record 102|puerto ayora\n",
      "Processing record 103|turayf\n",
      "Processing record 104|yellowknife\n",
      "Processing record 105|iqaluit\n",
      "Processing record 106|oktyabrskoye\n",
      "City not found. skipping.\n",
      "Processing record 107|mayo\n",
      "Processing record 108|hirtshals\n",
      "Processing record 109|tasiilaq\n",
      "Processing record 110|maldonado\n",
      "Processing record 111|east london\n",
      "Processing record 112|sao filipe\n",
      "Processing record 113|khunti\n",
      "Processing record 114|yulara\n",
      "City not found. skipping.\n",
      "Processing record 115|yasnyy\n",
      "Processing record 116|kavaratti\n",
      "Processing record 117|hamilton\n",
      "Processing record 118|birao\n",
      "Processing record 119|sibu\n",
      "Processing record 120|barrow\n",
      "Processing record 121|bhavnagar\n",
      "Processing record 122|saint george\n",
      "Processing record 123|arraial do cabo\n",
      "Processing record 124|paramonga\n",
      "Processing record 125|zyryanka\n",
      "Processing record 126|port-cartier\n",
      "City not found. skipping.\n",
      "Processing record 127|zlobin\n",
      "Processing record 128|juxtlahuaca\n",
      "Processing record 129|nevelsk\n",
      "Processing record 130|atuona\n",
      "Processing record 131|ponta do sol\n",
      "Processing record 132|waw\n",
      "Processing record 133|tutoia\n",
      "Processing record 134|toro\n",
      "Processing record 135|beihai\n",
      "Processing record 136|castro\n",
      "Processing record 137|tual\n",
      "Processing record 138|fortuna\n",
      "City not found. skipping.\n",
      "Processing record 139|isangel\n",
      "Processing record 140|hobart\n",
      "Processing record 141|cervo\n",
      "Processing record 142|butaritari\n",
      "Processing record 143|esperance\n",
      "Processing record 144|narsaq\n",
      "Processing record 145|north bend\n",
      "Processing record 146|altagracia de orituco\n",
      "Processing record 147|kaitangata\n",
      "Processing record 148|mogadishu\n",
      "Processing record 149|sao joao da barra\n",
      "Processing record 150|santa cruz\n",
      "Processing record 151|tabora\n",
      "Processing record 152|trairi\n",
      "Processing record 153|faanui\n",
      "Processing record 154|shubarshi\n",
      "Processing record 155|kahului\n",
      "City not found. skipping.\n",
      "Processing record 156|san policarpo\n",
      "Processing record 157|puerto quijarro\n",
      "Processing record 158|shingu\n",
      "Processing record 159|soyo\n",
      "Processing record 160|cristalina\n",
      "Processing record 161|lowestoft\n",
      "Processing record 162|cidreira\n",
      "Processing record 163|krasnyy yar\n",
      "Processing record 164|constitucion\n",
      "Processing record 165|deputatskiy\n",
      "Processing record 166|clyde river\n",
      "Processing record 167|dhidhdhoo\n",
      "Processing record 168|namibe\n",
      "Processing record 169|lake havasu city\n",
      "Processing record 170|sorong\n",
      "Processing record 171|ballaghaderreen\n",
      "Processing record 172|pemba\n",
      "Processing record 173|arroyo\n",
      "Processing record 174|kloulklubed\n",
      "Processing record 175|saint-pierre\n",
      "Processing record 176|atar\n",
      "Processing record 177|moa\n",
      "Processing record 178|port shepstone\n",
      "Processing record 179|dingle\n",
      "Processing record 180|westport\n",
      "Processing record 181|kenai\n",
      "Processing record 182|linxia\n",
      "City not found. skipping.\n",
      "Processing record 183|batagay\n",
      "Processing record 184|hambantota\n",
      "Processing record 185|polunochnoye\n",
      "Processing record 186|plettenberg bay\n",
      "Processing record 187|pacific grove\n",
      "Processing record 188|itoman\n",
      "Processing record 189|tolbazy\n",
      "Processing record 190|matara\n",
      "Processing record 191|puerto baquerizo moreno\n",
      "Processing record 192|verkhnetulomskiy\n",
      "Processing record 193|mujiayingzi\n",
      "Processing record 194|valvedditturai\n",
      "Processing record 195|baneh\n",
      "Processing record 196|irtyshskiy\n",
      "Processing record 197|qaanaaq\n",
      "Processing record 198|severo-kurilsk\n",
      "Processing record 199|bonavista\n",
      "Processing record 200|bambous virieux\n",
      "Processing record 201|katsuura\n",
      "Processing record 202|victoria\n",
      "Processing record 203|fukue\n",
      "Processing record 204|el colomo\n",
      "Processing record 205|antalaha\n",
      "Processing record 206|saint-louis\n",
      "Processing record 207|ialibu\n",
      "Processing record 208|muros\n",
      "Processing record 209|pangkalanbuun\n",
      "Processing record 210|codrington\n",
      "Processing record 211|provideniya\n",
      "Processing record 212|astoria\n",
      "Processing record 213|quijingue\n",
      "Processing record 214|lazaro cardenas\n",
      "City not found. skipping.\n",
      "Processing record 215|avallon\n",
      "Processing record 216|penzance\n",
      "City not found. skipping.\n",
      "Processing record 217|kingman\n",
      "City not found. skipping.\n",
      "Processing record 218|mitsamiouli\n",
      "Processing record 219|hithadhoo\n",
      "City not found. skipping.\n",
      "Processing record 220|faya\n",
      "City not found. skipping.\n",
      "Processing record 221|lompoc\n",
      "Processing record 222|murgab\n",
      "Processing record 223|longyearbyen\n",
      "Processing record 224|guben\n",
      "Processing record 225|salalah\n",
      "Processing record 226|gweru\n",
      "Processing record 227|honiara\n",
      "Processing record 228|upernavik\n",
      "Processing record 229|howard springs\n",
      "Processing record 230|fairfield\n",
      "Processing record 231|austin\n",
      "Processing record 232|kristinehamn\n",
      "Processing record 233|iracoubo\n",
      "Processing record 234|aykino\n",
      "Processing record 235|moryakovskiy zaton\n",
      "Processing record 236|tucurui\n",
      "Processing record 237|lafiagi\n",
      "Processing record 238|sept-iles\n",
      "Processing record 239|chimore\n",
      "Processing record 240|bayangol\n",
      "Processing record 241|san patricio\n",
      "Processing record 242|riyadh\n",
      "Processing record 243|conde\n",
      "Processing record 244|tlanalapan\n",
      "Processing record 245|fairbanks\n",
      "Processing record 246|mount isa\n",
      "City not found. skipping.\n"
     ]
    },
    {
     "name": "stdout",
     "output_type": "stream",
     "text": [
      "Processing record 247|bilibino\n",
      "Processing record 248|kanel\n",
      "Processing record 249|kaeo\n",
      "Processing record 250|lavrentiya\n",
      "Processing record 251|alofi\n",
      "Processing record 252|grindavik\n",
      "Processing record 253|baker city\n",
      "Processing record 254|urengoy\n",
      "Processing record 255|san rafael\n",
      "Processing record 256|yelan\n",
      "Processing record 257|loralai\n",
      "Processing record 258|northam\n",
      "Processing record 259|flinders\n",
      "Processing record 260|moron\n",
      "Processing record 261|saskylakh\n",
      "Processing record 262|gonbad-e qabus\n",
      "Processing record 263|mount gambier\n",
      "Processing record 264|pucallpa\n",
      "Processing record 265|litovko\n",
      "Processing record 266|ahipara\n",
      "Processing record 267|touba\n",
      "Processing record 268|vitorino freire\n",
      "Processing record 269|hofn\n",
      "Processing record 270|fomboni\n",
      "Processing record 271|khash\n",
      "Processing record 272|nikolskoye\n",
      "Processing record 273|los llanos de aridane\n",
      "Processing record 274|praia da vitoria\n",
      "Processing record 275|mangochi\n",
      "Processing record 276|jalu\n",
      "City not found. skipping.\n",
      "Processing record 277|shambu\n",
      "City not found. skipping.\n",
      "Processing record 278|baie-comeau\n",
      "Processing record 279|tigil\n",
      "Processing record 280|pemangkat\n",
      "Processing record 281|kirakira\n",
      "City not found. skipping.\n",
      "Processing record 282|khalkhal\n",
      "Processing record 283|laguna\n",
      "Processing record 284|srednekolymsk\n",
      "Processing record 285|diu\n",
      "Processing record 286|carutapera\n",
      "Processing record 287|dikson\n",
      "Processing record 288|lasa\n",
      "Processing record 289|aguimes\n",
      "Processing record 290|bengkulu\n",
      "Processing record 291|cherskiy\n",
      "Processing record 292|dakar\n",
      "Processing record 293|yunyang\n",
      "Processing record 294|pembroke\n",
      "Processing record 295|manggar\n",
      "Processing record 296|kutum\n",
      "Processing record 297|airai\n",
      "Processing record 298|zaysan\n",
      "Processing record 299|jamame\n",
      "Processing record 300|sitka\n",
      "Processing record 301|grand gaube\n",
      "Processing record 302|henties bay\n",
      "Processing record 303|kudahuvadhoo\n",
      "Processing record 304|camacha\n",
      "Processing record 305|portland\n",
      "Processing record 306|samarai\n",
      "Processing record 307|borovichi\n",
      "Processing record 308|naron\n",
      "Processing record 309|ellisras\n",
      "Processing record 310|burnie\n",
      "Processing record 311|sawakin\n",
      "Processing record 312|nuuk\n",
      "Processing record 313|san andres\n",
      "City not found. skipping.\n",
      "Processing record 314|kulhudhuffushi\n",
      "Processing record 315|chicama\n",
      "Processing record 316|methoni\n",
      "Processing record 317|coihaique\n",
      "Processing record 318|keflavik\n",
      "Processing record 319|wanning\n",
      "Processing record 320|rio gallegos\n",
      "Processing record 321|hearst\n",
      "Processing record 322|rundu\n",
      "Processing record 323|kaoma\n",
      "Processing record 324|salinopolis\n",
      "Processing record 325|horta\n",
      "Processing record 326|la union\n",
      "Processing record 327|general roca\n",
      "Processing record 328|ballina\n",
      "Processing record 329|eureka\n",
      "Processing record 330|buraydah\n",
      "Processing record 331|sovetskiy\n",
      "Processing record 332|nipani\n",
      "Processing record 333|sungaipenuh\n",
      "City not found. skipping.\n",
      "Processing record 334|chokurdakh\n",
      "City not found. skipping.\n",
      "Processing record 335|campoverde\n",
      "Processing record 336|victoria point\n",
      "Processing record 337|minyar\n",
      "Processing record 338|kiunga\n",
      "Processing record 339|aasiaat\n",
      "Processing record 340|norman wells\n",
      "Processing record 341|asyut\n",
      "City not found. skipping.\n",
      "Processing record 342|quatre cocos\n",
      "Processing record 343|anderson\n",
      "City not found. skipping.\n",
      "City not found. skipping.\n",
      "Processing record 344|umm kaddadah\n",
      "Processing record 345|abha\n",
      "Processing record 346|bielsk podlaski\n",
      "Processing record 347|san julian\n",
      "Processing record 348|vestmannaeyjar\n",
      "Processing record 349|yurimaguas\n",
      "Processing record 350|filingue\n",
      "Processing record 351|cordoba\n",
      "Processing record 352|casma\n",
      "Processing record 353|nobres\n",
      "Processing record 354|san miguel\n",
      "Processing record 355|jiangyou\n",
      "Processing record 356|puerto del rosario\n",
      "Processing record 357|havre-saint-pierre\n",
      "Processing record 358|umba\n",
      "Processing record 359|alice springs\n",
      "Processing record 360|coquimbo\n",
      "Processing record 361|leningradskiy\n",
      "Processing record 362|haines junction\n",
      "Processing record 363|pitimbu\n",
      "City not found. skipping.\n",
      "Processing record 364|eidsvag\n",
      "Processing record 365|san quintin\n",
      "Processing record 366|baykit\n",
      "Processing record 367|ozernovskiy\n",
      "Processing record 368|nyalikungu\n",
      "Processing record 369|mount kisco\n",
      "Processing record 370|anadyr\n",
      "Processing record 371|walvis bay\n",
      "Processing record 372|zilair\n",
      "Processing record 373|sisimiut\n",
      "Processing record 374|gamba\n",
      "Processing record 375|sur\n",
      "Processing record 376|colac\n",
      "Processing record 377|rio grande\n",
      "Processing record 378|verkhnevilyuysk\n",
      "Processing record 379|brae\n",
      "Processing record 380|daokou\n",
      "Processing record 381|pangai\n",
      "Processing record 382|atocha\n",
      "Processing record 383|najran\n",
      "Processing record 384|hangu\n",
      "Processing record 385|santa rosa\n",
      "Processing record 386|manono\n",
      "Processing record 387|byron bay\n",
      "Processing record 388|inhambane\n",
      "Processing record 389|massakory\n",
      "Processing record 390|port augusta\n",
      "Processing record 391|semey\n",
      "Processing record 392|port lincoln\n",
      "Processing record 393|chodavaram\n",
      "Processing record 394|broken hill\n",
      "Processing record 395|haimen\n",
      "Processing record 396|abu dhabi\n",
      "Processing record 397|churapcha\n",
      "Processing record 398|karratha\n",
      "Processing record 399|vouliagmeni\n",
      "Processing record 400|manokwari\n",
      "Processing record 401|abashiri\n",
      "Processing record 402|chuzhou\n",
      "Processing record 403|wlodawa\n",
      "Processing record 404|blackwater\n",
      "Processing record 405|palmer\n",
      "Processing record 406|chernyshevskiy\n",
      "Processing record 407|college\n",
      "Processing record 408|poum\n",
      "Processing record 409|elat\n",
      "Processing record 410|ixtapa\n",
      "Processing record 411|bundaberg\n",
      "Processing record 412|talara\n",
      "City not found. skipping.\n",
      "Processing record 413|fernley\n",
      "Processing record 414|acapulco\n",
      "Processing record 415|nokaneng\n",
      "Processing record 416|denia\n",
      "Processing record 417|lixourion\n",
      "Processing record 418|mashhad\n",
      "Processing record 419|black river\n",
      "Processing record 420|moroto\n",
      "Processing record 421|meadow lake\n",
      "Processing record 422|hualmay\n",
      "Processing record 423|carndonagh\n",
      "City not found. skipping.\n",
      "Processing record 424|half moon bay\n",
      "Processing record 425|idah\n",
      "Processing record 426|kismayo\n",
      "Processing record 427|nouadhibou\n",
      "Processing record 428|kencong\n",
      "Processing record 429|naze\n",
      "Processing record 430|cururupu\n",
      "Processing record 431|luena\n",
      "Processing record 432|verkhneyarkeyevo\n",
      "Processing record 433|amapa\n",
      "Processing record 434|scarborough\n",
      "Processing record 435|kruisfontein\n",
      "Processing record 436|viedma\n",
      "Processing record 437|nanortalik\n",
      "Processing record 438|inongo\n",
      "Processing record 439|sinnamary\n",
      "Processing record 440|aklavik\n",
      "Processing record 441|liverpool\n",
      "City not found. skipping.\n",
      "Processing record 442|caravelas\n",
      "Processing record 443|bathsheba\n",
      "Processing record 444|pokhara\n",
      "Processing record 445|manacapuru\n",
      "Processing record 446|port-gentil\n",
      "Processing record 447|kuznechikha\n",
      "Processing record 448|montepuez\n",
      "Processing record 449|tromso\n",
      "Processing record 450|sharjah\n",
      "Processing record 451|krasnoselkup\n",
      "City not found. skipping.\n",
      "City not found. skipping.\n",
      "Processing record 452|saravan\n",
      "Processing record 453|bilma\n",
      "Processing record 454|bonga\n",
      "Processing record 455|meulaboh\n",
      "Processing record 456|puerto escondido\n",
      "Processing record 457|bridlington\n",
      "Processing record 458|evensk\n",
      "Processing record 459|nadym\n",
      "Processing record 460|san nicolas\n",
      "Processing record 461|xining\n",
      "Processing record 462|limoux\n",
      "Processing record 463|telimele\n",
      "Processing record 464|concepcion\n",
      "Processing record 465|chivay\n",
      "Processing record 466|oranjemund\n",
      "Processing record 467|alyangula\n",
      "Processing record 468|port keats\n",
      "Processing record 469|englewood\n",
      "Processing record 470|cap malheureux\n",
      "Processing record 471|gazojak\n",
      "Processing record 472|hay river\n",
      "Processing record 473|kabinda\n",
      "City not found. skipping.\n",
      "Processing record 474|holstebro\n",
      "Processing record 475|bjelovar\n",
      "Processing record 476|dolores\n",
      "Processing record 477|ginda\n",
      "Processing record 478|ascension\n",
      "Processing record 479|bongor\n",
      "Processing record 480|sorland\n",
      "Processing record 481|olafsvik\n",
      "Processing record 482|seoul\n",
      "Processing record 483|benjamin constant\n",
      "Processing record 484|kilindoni\n",
      "Processing record 485|urumqi\n",
      "Processing record 486|bandarbeyla\n",
      "Processing record 487|ushtobe\n",
      "Processing record 488|goderich\n",
      "Processing record 489|hermiston\n",
      "Processing record 490|pontianak\n",
      "Processing record 491|makokou\n",
      "Processing record 492|bandundu\n",
      "Processing record 493|xai-xai\n",
      "City not found. skipping.\n",
      "Processing record 494|ossora\n",
      "Processing record 495|halifax\n"
     ]
    },
    {
     "name": "stdout",
     "output_type": "stream",
     "text": [
      "Processing record 496|yatou\n",
      "Processing record 497|vostok\n",
      "Processing record 498|hobyo\n",
      "Processing record 499|gat\n",
      "Processing record 500|san luis\n",
      "Processing record 501|arecibo\n",
      "Processing record 502|meybod\n",
      "Processing record 503|mugur-aksy\n",
      "Processing record 504|douglas\n",
      "Processing record 505|mehamn\n",
      "Processing record 506|ambilobe\n",
      "Processing record 507|torit\n",
      "Processing record 508|bodden town\n",
      "Processing record 509|talnakh\n",
      "Processing record 510|salinas\n",
      "Processing record 511|tezu\n",
      "Processing record 512|lavumisa\n",
      "Processing record 513|darhan\n",
      "Processing record 514|tuatapere\n",
      "Processing record 515|eloy\n",
      "Processing record 516|narsingi\n",
      "Processing record 517|bongandanga\n",
      "Processing record 518|ulaangom\n",
      "Processing record 519|sabang\n",
      "Processing record 520|venado tuerto\n",
      "Processing record 521|marawi\n",
      "City not found. skipping.\n",
      "Processing record 522|collie\n",
      "Processing record 523|port macquarie\n",
      "Processing record 524|shache\n",
      "Processing record 525|olinda\n",
      "Processing record 526|imeni babushkina\n",
      "Processing record 527|timra\n",
      "Processing record 528|copperas cove\n",
      "City not found. skipping.\n",
      "Processing record 529|high prairie\n",
      "Processing record 530|diffa\n",
      "Processing record 531|port huron\n",
      "Processing record 532|atbasar\n",
      "Processing record 533|sosnovo-ozerskoye\n",
      "Processing record 534|shebunino\n",
      "Processing record 535|parabel\n",
      "Processing record 536|tungor\n",
      "Processing record 537|asau\n",
      "City not found. skipping.\n",
      "Processing record 538|chalus\n",
      "Processing record 539|edd\n",
      "Processing record 540|maine-soroa\n",
      "Processing record 541|high level\n",
      "Processing record 542|creel\n",
      "Processing record 543|broome\n",
      "Processing record 544|labrea\n",
      "City not found. skipping.\n",
      "Processing record 545|caarapo\n",
      "Processing record 546|litija\n",
      "Processing record 547|kingsport\n",
      "Processing record 548|nemuro\n",
      "Processing record 549|labuhan\n",
      "Processing record 550|christchurch\n",
      "Processing record 551|castanos\n",
      "Processing record 552|taveta\n",
      "Processing record 553|russkaya polyana\n",
      "Processing record 554|kaohsiung\n",
      "Processing record 555|margate\n",
      "Processing record 556|yar-sale\n",
      "Processing record 557|kashi\n",
      "Processing record 558|porbandar\n",
      "Processing record 559|selma\n",
      "Processing record 560|flin flon\n",
      "Processing record 561|husavik\n",
      "City not found. skipping.\n",
      "Processing record 562|vangaindrano\n",
      "Processing record 563|inuvik\n",
      "Processing record 564|havelock\n",
      "Processing record 565|vanimo\n",
      "Processing record 566|rock springs\n"
     ]
    }
   ],
   "source": [
    "url = \"http://api.openweathermap.org/data/2.5/weather?units=Imperial&\"\n",
    "\n",
    "#Define empty lists to store values\n",
    "cloudiness = []\n",
    "country = []\n",
    "date = []\n",
    "max_temp = []\n",
    "humidity = []\n",
    "lat = []\n",
    "lng = []\n",
    "wind_speed = []\n",
    "city_name = []\n",
    "\n",
    "#Looping through cities to make api calls using city as query\n",
    "i = 1\n",
    "for city in cities:\n",
    "    #city=city\n",
    "    query_url = url + \"appid=\" + weather_api_key + \"&q=\" + city\n",
    "    response = requests.get(query_url).json()\n",
    "    \n",
    "#Extracting data. Missing data is handled by try and except  \n",
    "    try:\n",
    "        \n",
    "        cloudiness.append(response[\"clouds\"][\"all\"])\n",
    "        country.append(response[\"sys\"][\"country\"])\n",
    "        date.append(response[\"dt\"])\n",
    "        max_temp.append(response[\"main\"]['temp_max'])\n",
    "        humidity.append(response[\"main\"]['humidity'])\n",
    "        lat.append(response[\"coord\"][\"lat\"])  \n",
    "        lng.append(response[\"coord\"][\"lon\"])\n",
    "        wind_speed.append(response[\"wind\"][\"speed\"])\n",
    "        city_name.append(response[\"name\"])\n",
    "        print(f\"Processing record {i}|{city}\")\n",
    "        i+=1\n",
    "    except (KeyError):\n",
    "        print(\"City not found. skipping.\")"
   ]
  },
  {
   "cell_type": "code",
   "execution_count": 73,
   "metadata": {},
   "outputs": [
    {
     "data": {
      "text/html": [
       "<div>\n",
       "<style scoped>\n",
       "    .dataframe tbody tr th:only-of-type {\n",
       "        vertical-align: middle;\n",
       "    }\n",
       "\n",
       "    .dataframe tbody tr th {\n",
       "        vertical-align: top;\n",
       "    }\n",
       "\n",
       "    .dataframe thead th {\n",
       "        text-align: right;\n",
       "    }\n",
       "</style>\n",
       "<table border=\"1\" class=\"dataframe\">\n",
       "  <thead>\n",
       "    <tr style=\"text-align: right;\">\n",
       "      <th></th>\n",
       "      <th>City</th>\n",
       "      <th>Cloudiness</th>\n",
       "      <th>Country</th>\n",
       "      <th>Date</th>\n",
       "      <th>Humidity</th>\n",
       "      <th>Lat</th>\n",
       "      <th>Lng</th>\n",
       "      <th>Max Temp</th>\n",
       "      <th>Wind Speed</th>\n",
       "    </tr>\n",
       "    <tr>\n",
       "      <th>City ID</th>\n",
       "      <th></th>\n",
       "      <th></th>\n",
       "      <th></th>\n",
       "      <th></th>\n",
       "      <th></th>\n",
       "      <th></th>\n",
       "      <th></th>\n",
       "      <th></th>\n",
       "      <th></th>\n",
       "    </tr>\n",
       "  </thead>\n",
       "  <tbody>\n",
       "    <tr>\n",
       "      <th>0</th>\n",
       "      <td>Puerto Ayacucho</td>\n",
       "      <td>86</td>\n",
       "      <td>VE</td>\n",
       "      <td>1614652446</td>\n",
       "      <td>51</td>\n",
       "      <td>5.6639</td>\n",
       "      <td>-67.6236</td>\n",
       "      <td>76.51</td>\n",
       "      <td>5.97</td>\n",
       "    </tr>\n",
       "    <tr>\n",
       "      <th>1</th>\n",
       "      <td>Launceston</td>\n",
       "      <td>75</td>\n",
       "      <td>AU</td>\n",
       "      <td>1614652374</td>\n",
       "      <td>36</td>\n",
       "      <td>-41.4500</td>\n",
       "      <td>147.1667</td>\n",
       "      <td>60.80</td>\n",
       "      <td>14.97</td>\n",
       "    </tr>\n",
       "    <tr>\n",
       "      <th>2</th>\n",
       "      <td>Hilo</td>\n",
       "      <td>90</td>\n",
       "      <td>US</td>\n",
       "      <td>1614652432</td>\n",
       "      <td>68</td>\n",
       "      <td>19.7297</td>\n",
       "      <td>-155.0900</td>\n",
       "      <td>73.40</td>\n",
       "      <td>9.22</td>\n",
       "    </tr>\n",
       "    <tr>\n",
       "      <th>3</th>\n",
       "      <td>Merrill</td>\n",
       "      <td>1</td>\n",
       "      <td>US</td>\n",
       "      <td>1614652447</td>\n",
       "      <td>52</td>\n",
       "      <td>45.1805</td>\n",
       "      <td>-89.6835</td>\n",
       "      <td>15.80</td>\n",
       "      <td>3.44</td>\n",
       "    </tr>\n",
       "    <tr>\n",
       "      <th>4</th>\n",
       "      <td>Mataura</td>\n",
       "      <td>96</td>\n",
       "      <td>NZ</td>\n",
       "      <td>1614652447</td>\n",
       "      <td>66</td>\n",
       "      <td>-46.1927</td>\n",
       "      <td>168.8643</td>\n",
       "      <td>69.89</td>\n",
       "      <td>0.72</td>\n",
       "    </tr>\n",
       "    <tr>\n",
       "      <th>...</th>\n",
       "      <td>...</td>\n",
       "      <td>...</td>\n",
       "      <td>...</td>\n",
       "      <td>...</td>\n",
       "      <td>...</td>\n",
       "      <td>...</td>\n",
       "      <td>...</td>\n",
       "      <td>...</td>\n",
       "      <td>...</td>\n",
       "    </tr>\n",
       "    <tr>\n",
       "      <th>561</th>\n",
       "      <td>Vangaindrano</td>\n",
       "      <td>99</td>\n",
       "      <td>MG</td>\n",
       "      <td>1614652530</td>\n",
       "      <td>88</td>\n",
       "      <td>-23.3500</td>\n",
       "      <td>47.6000</td>\n",
       "      <td>74.48</td>\n",
       "      <td>1.25</td>\n",
       "    </tr>\n",
       "    <tr>\n",
       "      <th>562</th>\n",
       "      <td>Inuvik</td>\n",
       "      <td>98</td>\n",
       "      <td>CA</td>\n",
       "      <td>1614652530</td>\n",
       "      <td>76</td>\n",
       "      <td>68.3499</td>\n",
       "      <td>-133.7218</td>\n",
       "      <td>-23.80</td>\n",
       "      <td>5.75</td>\n",
       "    </tr>\n",
       "    <tr>\n",
       "      <th>563</th>\n",
       "      <td>Havelock</td>\n",
       "      <td>90</td>\n",
       "      <td>US</td>\n",
       "      <td>1614652530</td>\n",
       "      <td>51</td>\n",
       "      <td>34.8791</td>\n",
       "      <td>-76.9013</td>\n",
       "      <td>60.80</td>\n",
       "      <td>18.41</td>\n",
       "    </tr>\n",
       "    <tr>\n",
       "      <th>564</th>\n",
       "      <td>Vanimo</td>\n",
       "      <td>97</td>\n",
       "      <td>PG</td>\n",
       "      <td>1614652531</td>\n",
       "      <td>65</td>\n",
       "      <td>-2.6741</td>\n",
       "      <td>141.3028</td>\n",
       "      <td>85.41</td>\n",
       "      <td>7.23</td>\n",
       "    </tr>\n",
       "    <tr>\n",
       "      <th>565</th>\n",
       "      <td>Rock Springs</td>\n",
       "      <td>1</td>\n",
       "      <td>US</td>\n",
       "      <td>1614652317</td>\n",
       "      <td>54</td>\n",
       "      <td>41.5875</td>\n",
       "      <td>-109.2029</td>\n",
       "      <td>28.40</td>\n",
       "      <td>5.75</td>\n",
       "    </tr>\n",
       "  </tbody>\n",
       "</table>\n",
       "<p>566 rows × 9 columns</p>\n",
       "</div>"
      ],
      "text/plain": [
       "                    City  Cloudiness Country        Date  Humidity      Lat  \\\n",
       "City ID                                                                       \n",
       "0        Puerto Ayacucho          86      VE  1614652446        51   5.6639   \n",
       "1             Launceston          75      AU  1614652374        36 -41.4500   \n",
       "2                   Hilo          90      US  1614652432        68  19.7297   \n",
       "3                Merrill           1      US  1614652447        52  45.1805   \n",
       "4                Mataura          96      NZ  1614652447        66 -46.1927   \n",
       "...                  ...         ...     ...         ...       ...      ...   \n",
       "561         Vangaindrano          99      MG  1614652530        88 -23.3500   \n",
       "562               Inuvik          98      CA  1614652530        76  68.3499   \n",
       "563             Havelock          90      US  1614652530        51  34.8791   \n",
       "564               Vanimo          97      PG  1614652531        65  -2.6741   \n",
       "565         Rock Springs           1      US  1614652317        54  41.5875   \n",
       "\n",
       "              Lng  Max Temp  Wind Speed  \n",
       "City ID                                  \n",
       "0        -67.6236     76.51        5.97  \n",
       "1        147.1667     60.80       14.97  \n",
       "2       -155.0900     73.40        9.22  \n",
       "3        -89.6835     15.80        3.44  \n",
       "4        168.8643     69.89        0.72  \n",
       "...           ...       ...         ...  \n",
       "561       47.6000     74.48        1.25  \n",
       "562     -133.7218    -23.80        5.75  \n",
       "563      -76.9013     60.80       18.41  \n",
       "564      141.3028     85.41        7.23  \n",
       "565     -109.2029     28.40        5.75  \n",
       "\n",
       "[566 rows x 9 columns]"
      ]
     },
     "execution_count": 73,
     "metadata": {},
     "output_type": "execute_result"
    }
   ],
   "source": [
    "city_df"
   ]
  },
  {
   "cell_type": "code",
   "execution_count": 76,
   "metadata": {
    "scrolled": true
   },
   "outputs": [
    {
     "data": {
      "text/html": [
       "<div>\n",
       "<style scoped>\n",
       "    .dataframe tbody tr th:only-of-type {\n",
       "        vertical-align: middle;\n",
       "    }\n",
       "\n",
       "    .dataframe tbody tr th {\n",
       "        vertical-align: top;\n",
       "    }\n",
       "\n",
       "    .dataframe thead th {\n",
       "        text-align: right;\n",
       "    }\n",
       "</style>\n",
       "<table border=\"1\" class=\"dataframe\">\n",
       "  <thead>\n",
       "    <tr style=\"text-align: right;\">\n",
       "      <th></th>\n",
       "      <th>City</th>\n",
       "      <th>Cloudiness</th>\n",
       "      <th>Country</th>\n",
       "      <th>Date</th>\n",
       "      <th>Humidity</th>\n",
       "      <th>Lat</th>\n",
       "      <th>Lng</th>\n",
       "      <th>Max Temp</th>\n",
       "      <th>Wind Speed</th>\n",
       "    </tr>\n",
       "    <tr>\n",
       "      <th>City ID</th>\n",
       "      <th></th>\n",
       "      <th></th>\n",
       "      <th></th>\n",
       "      <th></th>\n",
       "      <th></th>\n",
       "      <th></th>\n",
       "      <th></th>\n",
       "      <th></th>\n",
       "      <th></th>\n",
       "    </tr>\n",
       "  </thead>\n",
       "  <tbody>\n",
       "    <tr>\n",
       "      <th>0</th>\n",
       "      <td>Puerto Ayacucho</td>\n",
       "      <td>86</td>\n",
       "      <td>VE</td>\n",
       "      <td>1614652446</td>\n",
       "      <td>51</td>\n",
       "      <td>5.6639</td>\n",
       "      <td>-67.6236</td>\n",
       "      <td>76.51</td>\n",
       "      <td>5.97</td>\n",
       "    </tr>\n",
       "    <tr>\n",
       "      <th>1</th>\n",
       "      <td>Launceston</td>\n",
       "      <td>75</td>\n",
       "      <td>AU</td>\n",
       "      <td>1614652374</td>\n",
       "      <td>36</td>\n",
       "      <td>-41.4500</td>\n",
       "      <td>147.1667</td>\n",
       "      <td>60.80</td>\n",
       "      <td>14.97</td>\n",
       "    </tr>\n",
       "    <tr>\n",
       "      <th>2</th>\n",
       "      <td>Hilo</td>\n",
       "      <td>90</td>\n",
       "      <td>US</td>\n",
       "      <td>1614652432</td>\n",
       "      <td>68</td>\n",
       "      <td>19.7297</td>\n",
       "      <td>-155.0900</td>\n",
       "      <td>73.40</td>\n",
       "      <td>9.22</td>\n",
       "    </tr>\n",
       "    <tr>\n",
       "      <th>3</th>\n",
       "      <td>Merrill</td>\n",
       "      <td>1</td>\n",
       "      <td>US</td>\n",
       "      <td>1614652447</td>\n",
       "      <td>52</td>\n",
       "      <td>45.1805</td>\n",
       "      <td>-89.6835</td>\n",
       "      <td>15.80</td>\n",
       "      <td>3.44</td>\n",
       "    </tr>\n",
       "    <tr>\n",
       "      <th>4</th>\n",
       "      <td>Mataura</td>\n",
       "      <td>96</td>\n",
       "      <td>NZ</td>\n",
       "      <td>1614652447</td>\n",
       "      <td>66</td>\n",
       "      <td>-46.1927</td>\n",
       "      <td>168.8643</td>\n",
       "      <td>69.89</td>\n",
       "      <td>0.72</td>\n",
       "    </tr>\n",
       "  </tbody>\n",
       "</table>\n",
       "</div>"
      ],
      "text/plain": [
       "                    City  Cloudiness Country        Date  Humidity      Lat  \\\n",
       "City ID                                                                       \n",
       "0        Puerto Ayacucho          86      VE  1614652446        51   5.6639   \n",
       "1             Launceston          75      AU  1614652374        36 -41.4500   \n",
       "2                   Hilo          90      US  1614652432        68  19.7297   \n",
       "3                Merrill           1      US  1614652447        52  45.1805   \n",
       "4                Mataura          96      NZ  1614652447        66 -46.1927   \n",
       "\n",
       "              Lng  Max Temp  Wind Speed  \n",
       "City ID                                  \n",
       "0        -67.6236     76.51        5.97  \n",
       "1        147.1667     60.80       14.97  \n",
       "2       -155.0900     73.40        9.22  \n",
       "3        -89.6835     15.80        3.44  \n",
       "4        168.8643     69.89        0.72  "
      ]
     },
     "execution_count": 76,
     "metadata": {},
     "output_type": "execute_result"
    }
   ],
   "source": [
    "#Creating city dataframe\n",
    "city_df = pd.DataFrame({\"City\":city_name, \n",
    "                        \"Cloudiness\":cloudiness, \n",
    "                        \"Country\":country, \n",
    "                        \"Date\":date, \n",
    "                        \"Humidity\":humidity,\n",
    "                        \"Lat\":lat,\n",
    "                        \"Lng\":lng,\n",
    "                        \"Max Temp\":max_temp,\n",
    "                        \"Wind Speed\":wind_speed\n",
    "                                         })\n",
    "city_df = city_df.rename_axis('City ID')\n",
    "\n",
    "#Exporting data to csv\n",
    "city_df.to_csv(\"..\\output_data\\city.csv\")\n",
    "\n",
    "#Displaying dataframe\n",
    "city_df.head()"
   ]
  },
  {
   "cell_type": "code",
   "execution_count": 77,
   "metadata": {},
   "outputs": [
    {
     "data": {
      "text/plain": [
       "City          566\n",
       "Cloudiness    566\n",
       "Country       566\n",
       "Date          566\n",
       "Humidity      566\n",
       "Lat           566\n",
       "Lng           566\n",
       "Max Temp      566\n",
       "Wind Speed    566\n",
       "dtype: int64"
      ]
     },
     "execution_count": 77,
     "metadata": {},
     "output_type": "execute_result"
    }
   ],
   "source": [
    "city_df.count()"
   ]
  },
  {
   "cell_type": "code",
   "execution_count": 84,
   "metadata": {
    "scrolled": true
   },
   "outputs": [
    {
     "ename": "AttributeError",
     "evalue": "module 'datetime' has no attribute 'utcfromtimestamp'",
     "output_type": "error",
     "traceback": [
      "\u001b[1;31m---------------------------------------------------------------------------\u001b[0m",
      "\u001b[1;31mAttributeError\u001b[0m                            Traceback (most recent call last)",
      "\u001b[1;32m<ipython-input-84-ea3f09d3322a>\u001b[0m in \u001b[0;36m<module>\u001b[1;34m\u001b[0m\n\u001b[0;32m      1\u001b[0m \u001b[1;31m#Converting Date for title of plot\u001b[0m\u001b[1;33m\u001b[0m\u001b[1;33m\u001b[0m\u001b[1;33m\u001b[0m\u001b[0m\n\u001b[0;32m      2\u001b[0m \u001b[0mtimestamp\u001b[0m \u001b[1;33m=\u001b[0m \u001b[0mcity_df\u001b[0m\u001b[1;33m[\u001b[0m\u001b[1;34m\"Date\"\u001b[0m\u001b[1;33m]\u001b[0m\u001b[1;33m[\u001b[0m\u001b[1;36m0\u001b[0m\u001b[1;33m]\u001b[0m\u001b[1;33m\u001b[0m\u001b[1;33m\u001b[0m\u001b[0m\n\u001b[1;32m----> 3\u001b[1;33m \u001b[0mconverted_timestamp\u001b[0m \u001b[1;33m=\u001b[0m \u001b[0mdatetime\u001b[0m\u001b[1;33m.\u001b[0m\u001b[0mutcfromtimestamp\u001b[0m\u001b[1;33m(\u001b[0m\u001b[0mtimestamp\u001b[0m\u001b[1;33m)\u001b[0m\u001b[1;33m\u001b[0m\u001b[1;33m\u001b[0m\u001b[0m\n\u001b[0m\u001b[0;32m      4\u001b[0m \u001b[0mshortened_timestamp\u001b[0m \u001b[1;33m=\u001b[0m \u001b[0mdatetime\u001b[0m\u001b[1;33m.\u001b[0m\u001b[0mdate\u001b[0m\u001b[1;33m(\u001b[0m\u001b[0mconverted_timestamp\u001b[0m\u001b[1;33m)\u001b[0m\u001b[1;33m\u001b[0m\u001b[1;33m\u001b[0m\u001b[0m\n\u001b[0;32m      5\u001b[0m \u001b[1;33m\u001b[0m\u001b[0m\n",
      "\u001b[1;31mAttributeError\u001b[0m: module 'datetime' has no attribute 'utcfromtimestamp'"
     ]
    }
   ],
   "source": [
    "#Converting Date for title of plot\n",
    "timestamp = city_df[\"Date\"][0]\n",
    "converted_timestamp = datetime.utcfromtimestamp(timestamp)\n",
    "shortened_timestamp = datetime.date(converted_timestamp)\n",
    "\n",
    "#Creating plot\n",
    "plt.scatter(city_df[\"Lat\"], city_df[\"Max Temp\"], marker = \"o\", color = \"blue\",edgecolor = \"black\")\n",
    "plt.grid()\n",
    "plt.xlabel(\"Latitude\")\n",
    "plt.ylabel(\"Max Temperature (F)\")\n",
    "plt.title(f\"City Latitude vs. Max Temperature({shortened_timestamp})\")\n",
    "plt.savefig(\"..\\output_data\\city.csv\")\n",
    "plt.show()"
   ]
  },
  {
   "cell_type": "code",
   "execution_count": 85,
   "metadata": {},
   "outputs": [
    {
     "ename": "NameError",
     "evalue": "name 'shortened_timestamp' is not defined",
     "output_type": "error",
     "traceback": [
      "\u001b[1;31m---------------------------------------------------------------------------\u001b[0m",
      "\u001b[1;31mNameError\u001b[0m                                 Traceback (most recent call last)",
      "\u001b[1;32m<ipython-input-85-c0ebbe224cf0>\u001b[0m in \u001b[0;36m<module>\u001b[1;34m\u001b[0m\n\u001b[0;32m      4\u001b[0m \u001b[0mplt\u001b[0m\u001b[1;33m.\u001b[0m\u001b[0mxlabel\u001b[0m\u001b[1;33m(\u001b[0m\u001b[1;34m\"Latitude\"\u001b[0m\u001b[1;33m)\u001b[0m\u001b[1;33m\u001b[0m\u001b[1;33m\u001b[0m\u001b[0m\n\u001b[0;32m      5\u001b[0m \u001b[0mplt\u001b[0m\u001b[1;33m.\u001b[0m\u001b[0mylabel\u001b[0m\u001b[1;33m(\u001b[0m\u001b[1;34m\"Humidity(%)\"\u001b[0m\u001b[1;33m)\u001b[0m\u001b[1;33m\u001b[0m\u001b[1;33m\u001b[0m\u001b[0m\n\u001b[1;32m----> 6\u001b[1;33m \u001b[0mplt\u001b[0m\u001b[1;33m.\u001b[0m\u001b[0mtitle\u001b[0m\u001b[1;33m(\u001b[0m\u001b[1;34mf\"City Latitude vs. Humidity ({shortened_timestamp})\"\u001b[0m\u001b[1;33m)\u001b[0m\u001b[1;33m\u001b[0m\u001b[1;33m\u001b[0m\u001b[0m\n\u001b[0m\u001b[0;32m      7\u001b[0m \u001b[0mplt\u001b[0m\u001b[1;33m.\u001b[0m\u001b[0msavefig\u001b[0m\u001b[1;33m(\u001b[0m\u001b[1;34m\"../output_files/Lat_vs_humidity_plot\"\u001b[0m\u001b[1;33m)\u001b[0m\u001b[1;33m\u001b[0m\u001b[1;33m\u001b[0m\u001b[0m\n\u001b[0;32m      8\u001b[0m \u001b[0mplt\u001b[0m\u001b[1;33m.\u001b[0m\u001b[0mshow\u001b[0m\u001b[1;33m(\u001b[0m\u001b[1;33m)\u001b[0m\u001b[1;33m\u001b[0m\u001b[1;33m\u001b[0m\u001b[0m\n",
      "\u001b[1;31mNameError\u001b[0m: name 'shortened_timestamp' is not defined"
     ]
    },
    {
     "data": {
      "image/png": "[encoded data removed]",
      "text/plain": [
       "<Figure size 432x288 with 1 Axes>"
      ]
     },
     "metadata": {
      "needs_background": "light"
     },
     "output_type": "display_data"
    }
   ],
   "source": [
    "plt.scatter(city_df[\"Lat\"], city_df[\"Humidity\"], marker = \"o\", color = \"blue\",edgecolor = \"black\")\n",
    "plt.grid()\n",
    "plt.ylim(0, city_df[\"Humidity\"].max()+50)\n",
    "plt.xlabel(\"Latitude\")\n",
    "plt.ylabel(\"Humidity(%)\")\n",
    "plt.title(f\"City Latitude vs. Humidity ({shortened_timestamp})\")\n",
    "plt.savefig(\"../output_files/Lat_vs_humidity_plot\")\n",
    "plt.show()"
   ]
  },
  {
   "cell_type": "code",
   "execution_count": 86,
   "metadata": {},
   "outputs": [
    {
     "ename": "NameError",
     "evalue": "name 'shortened_timestamp' is not defined",
     "output_type": "error",
     "traceback": [
      "\u001b[1;31m---------------------------------------------------------------------------\u001b[0m",
      "\u001b[1;31mNameError\u001b[0m                                 Traceback (most recent call last)",
      "\u001b[1;32m<ipython-input-86-cf5aeaad6f4a>\u001b[0m in \u001b[0;36m<module>\u001b[1;34m\u001b[0m\n\u001b[0;32m      3\u001b[0m \u001b[0mplt\u001b[0m\u001b[1;33m.\u001b[0m\u001b[0mxlabel\u001b[0m\u001b[1;33m(\u001b[0m\u001b[1;34m\"Latitude\"\u001b[0m\u001b[1;33m)\u001b[0m\u001b[1;33m\u001b[0m\u001b[1;33m\u001b[0m\u001b[0m\n\u001b[0;32m      4\u001b[0m \u001b[0mplt\u001b[0m\u001b[1;33m.\u001b[0m\u001b[0mylabel\u001b[0m\u001b[1;33m(\u001b[0m\u001b[1;34m\"Cloudiness(%)\"\u001b[0m\u001b[1;33m)\u001b[0m\u001b[1;33m\u001b[0m\u001b[1;33m\u001b[0m\u001b[0m\n\u001b[1;32m----> 5\u001b[1;33m \u001b[0mplt\u001b[0m\u001b[1;33m.\u001b[0m\u001b[0mtitle\u001b[0m\u001b[1;33m(\u001b[0m\u001b[1;34mf\"City Latitude vs. Cloudiness ({shortened_timestamp})\"\u001b[0m\u001b[1;33m)\u001b[0m\u001b[1;33m\u001b[0m\u001b[1;33m\u001b[0m\u001b[0m\n\u001b[0m\u001b[0;32m      6\u001b[0m \u001b[0mplt\u001b[0m\u001b[1;33m.\u001b[0m\u001b[0msavefig\u001b[0m\u001b[1;33m(\u001b[0m\u001b[1;34m\"../output_files/Lat_vs_cloudiness_plot\"\u001b[0m\u001b[1;33m)\u001b[0m\u001b[1;33m\u001b[0m\u001b[1;33m\u001b[0m\u001b[0m\n\u001b[0;32m      7\u001b[0m \u001b[0mplt\u001b[0m\u001b[1;33m.\u001b[0m\u001b[0mshow\u001b[0m\u001b[1;33m(\u001b[0m\u001b[1;33m)\u001b[0m\u001b[1;33m\u001b[0m\u001b[1;33m\u001b[0m\u001b[0m\n",
      "\u001b[1;31mNameError\u001b[0m: name 'shortened_timestamp' is not defined"
     ]
    },
    {
     "data": {
      "image/png": "[encoded data removed]",
      "text/plain": [
       "<Figure size 432x288 with 1 Axes>"
      ]
     },
     "metadata": {
      "needs_background": "light"
     },
     "output_type": "display_data"
    }
   ],
   "source": [
    "plt.scatter(city_df[\"Lat\"], city_df[\"Cloudiness\"], marker = \"o\", color = \"blue\",edgecolor = \"black\")\n",
    "plt.grid()\n",
    "plt.xlabel(\"Latitude\")\n",
    "plt.ylabel(\"Cloudiness(%)\")\n",
    "plt.title(f\"City Latitude vs. Cloudiness ({shortened_timestamp})\")\n",
    "plt.savefig(\"../output_files/Lat_vs_cloudiness_plot\")\n",
    "plt.show()"
   ]
  },
  {
   "cell_type": "code",
   "execution_count": 87,
   "metadata": {},
   "outputs": [
    {
     "ename": "NameError",
     "evalue": "name 'shortened_timestamp' is not defined",
     "output_type": "error",
     "traceback": [
      "\u001b[1;31m---------------------------------------------------------------------------\u001b[0m",
      "\u001b[1;31mNameError\u001b[0m                                 Traceback (most recent call last)",
      "\u001b[1;32m<ipython-input-87-464196920d88>\u001b[0m in \u001b[0;36m<module>\u001b[1;34m\u001b[0m\n\u001b[0;32m      3\u001b[0m \u001b[0mplt\u001b[0m\u001b[1;33m.\u001b[0m\u001b[0mxlabel\u001b[0m\u001b[1;33m(\u001b[0m\u001b[1;34m\"Latitude\"\u001b[0m\u001b[1;33m)\u001b[0m\u001b[1;33m\u001b[0m\u001b[1;33m\u001b[0m\u001b[0m\n\u001b[0;32m      4\u001b[0m \u001b[0mplt\u001b[0m\u001b[1;33m.\u001b[0m\u001b[0mylabel\u001b[0m\u001b[1;33m(\u001b[0m\u001b[1;34m\"Wind Speed(mph)\"\u001b[0m\u001b[1;33m)\u001b[0m\u001b[1;33m\u001b[0m\u001b[1;33m\u001b[0m\u001b[0m\n\u001b[1;32m----> 5\u001b[1;33m \u001b[0mplt\u001b[0m\u001b[1;33m.\u001b[0m\u001b[0mtitle\u001b[0m\u001b[1;33m(\u001b[0m\u001b[1;34mf\"City Latitude vs. Wind Speed ({shortened_timestamp})\"\u001b[0m\u001b[1;33m)\u001b[0m\u001b[1;33m\u001b[0m\u001b[1;33m\u001b[0m\u001b[0m\n\u001b[0m\u001b[0;32m      6\u001b[0m \u001b[0mplt\u001b[0m\u001b[1;33m.\u001b[0m\u001b[0msavefig\u001b[0m\u001b[1;33m(\u001b[0m\u001b[1;34m\"../output_files/Lat_vs_windSpeed_plot\"\u001b[0m\u001b[1;33m)\u001b[0m\u001b[1;33m\u001b[0m\u001b[1;33m\u001b[0m\u001b[0m\n\u001b[0;32m      7\u001b[0m \u001b[0mplt\u001b[0m\u001b[1;33m.\u001b[0m\u001b[0mshow\u001b[0m\u001b[1;33m(\u001b[0m\u001b[1;33m)\u001b[0m\u001b[1;33m\u001b[0m\u001b[1;33m\u001b[0m\u001b[0m\n",
      "\u001b[1;31mNameError\u001b[0m: name 'shortened_timestamp' is not defined"
     ]
    },
    {
     "data": {
      "image/png": "[encoded data removed]",
      "text/plain": [
       "<Figure size 432x288 with 1 Axes>"
      ]
     },
     "metadata": {
      "needs_background": "light"
     },
     "output_type": "display_data"
    }
   ],
   "source": [
    "plt.scatter(city_df[\"Lat\"], city_df[\"Wind Speed\"], marker = \"o\", color = \"blue\",edgecolor = \"black\")\n",
    "plt.grid()\n",
    "plt.xlabel(\"Latitude\")\n",
    "plt.ylabel(\"Wind Speed(mph)\")\n",
    "plt.title(f\"City Latitude vs. Wind Speed ({shortened_timestamp})\")\n",
    "plt.savefig(\"../output_files/Lat_vs_windSpeed_plot\")\n",
    "plt.show()"
   ]
  },
  {
   "cell_type": "code",
   "execution_count": 88,
   "metadata": {},
   "outputs": [],
   "source": [
    "def linear_reg_plot(x_values,y_values):\n",
    "    (slope, intercept, rvalue, pvalue, stderr) = linregress(x_values, y_values)\n",
    "    regress_values = x_values * slope + intercept\n",
    "    line_eq = \"y = \" + str(round(slope,2)) + \"x + \" + str(round(intercept,2))\n",
    "    plt.scatter(x_values,y_values)\n",
    "    plt.plot(x_values,regress_values,\"r-\")\n",
    "    plt.annotate(line_eq,(x_values.median(),y_values.median()),fontsize=15,color=\"red\")\n",
    "    plt.xlabel(\"Latitude\")\n",
    "    print(f\"The r-squared is: {rvalue}\")\n",
    "    plt.show()"
   ]
  },
  {
   "cell_type": "code",
   "execution_count": 89,
   "metadata": {},
   "outputs": [],
   "source": [
    "Northern_hemisphere = city_df.loc[city_df[\"Lat\"]>0]\n",
    "Southern_hemisphere = city_df.loc[city_df[\"Lat\"]<0]"
   ]
  },
  {
   "cell_type": "code",
   "execution_count": 90,
   "metadata": {},
   "outputs": [
    {
     "name": "stdout",
     "output_type": "stream",
     "text": [
      "The r-squared is: -0.8616604675573127\n"
     ]
    },
    {
     "data": {
      "image/png": "[encoded data removed]",
      "text/plain": [
       "<Figure size 432x288 with 1 Axes>"
      ]
     },
     "metadata": {
      "needs_background": "light"
     },
     "output_type": "display_data"
    },
    {
     "name": "stdout",
     "output_type": "stream",
     "text": [
      "None\n"
     ]
    }
   ],
   "source": [
    "x_values = Northern_hemisphere[\"Lat\"]\n",
    "y_values = Northern_hemisphere[\"Max Temp\"]\n",
    "plt.ylabel(\"Max Temp (F)\")\n",
    "print(linear_reg_plot(x_values,y_values))\n"
   ]
  },
  {
   "cell_type": "code",
   "execution_count": 91,
   "metadata": {},
   "outputs": [
    {
     "name": "stdout",
     "output_type": "stream",
     "text": [
      "The r-squared is: 0.4845471259696505\n"
     ]
    },
    {
     "data": {
      "image/png": "[encoded data removed]",
      "text/plain": [
       "<Figure size 432x288 with 1 Axes>"
      ]
     },
     "metadata": {
      "needs_background": "light"
     },
     "output_type": "display_data"
    },
    {
     "name": "stdout",
     "output_type": "stream",
     "text": [
      "None\n"
     ]
    }
   ],
   "source": [
    "x_values = Southern_hemisphere[\"Lat\"]\n",
    "y_values = Southern_hemisphere[\"Max Temp\"]\n",
    "plt.ylabel(\"Max Temp (F)\")\n",
    "print(linear_reg_plot(x_values,y_values))"
   ]
  },
  {
   "cell_type": "code",
   "execution_count": 92,
   "metadata": {},
   "outputs": [
    {
     "name": "stdout",
     "output_type": "stream",
     "text": [
      "The r-squared is: 0.32788491072228854\n"
     ]
    },
    {
     "data": {
      "image/png": "[encoded data removed]",
      "text/plain": [
       "<Figure size 432x288 with 1 Axes>"
      ]
     },
     "metadata": {
      "needs_background": "light"
     },
     "output_type": "display_data"
    },
    {
     "name": "stdout",
     "output_type": "stream",
     "text": [
      "None\n"
     ]
    }
   ],
   "source": [
    "x_values = Northern_hemisphere[\"Lat\"]\n",
    "y_values = Northern_hemisphere[\"Humidity\"]\n",
    "plt.ylabel(\"Humidity (%)\")\n",
    "print(linear_reg_plot(x_values,y_values))"
   ]
  },
  {
   "cell_type": "code",
   "execution_count": 93,
   "metadata": {
    "scrolled": true
   },
   "outputs": [
    {
     "name": "stdout",
     "output_type": "stream",
     "text": [
      "The r-squared is: 0.2631108085406137\n"
     ]
    },
    {
     "data": {
      "image/png": "[encoded data removed]",
      "text/plain": [
       "<Figure size 432x288 with 1 Axes>"
      ]
     },
     "metadata": {
      "needs_background": "light"
     },
     "output_type": "display_data"
    },
    {
     "name": "stdout",
     "output_type": "stream",
     "text": [
      "None\n"
     ]
    }
   ],
   "source": [
    "x_values = Southern_hemisphere[\"Lat\"]\n",
    "y_values = Southern_hemisphere[\"Humidity\"]\n",
    "plt.ylim(0, y_values.max()+100)\n",
    "plt.ylabel(\"Humidity (%)\")\n",
    "print(linear_reg_plot(x_values,y_values))"
   ]
  },
  {
   "cell_type": "code",
   "execution_count": 94,
   "metadata": {},
   "outputs": [
    {
     "name": "stdout",
     "output_type": "stream",
     "text": [
      "The r-squared is: 0.2659189727200818\n"
     ]
    },
    {
     "data": {
      "image/png": "[encoded data removed]",
      "text/plain": [
       "<Figure size 432x288 with 1 Axes>"
      ]
     },
     "metadata": {
      "needs_background": "light"
     },
     "output_type": "display_data"
    },
    {
     "name": "stdout",
     "output_type": "stream",
     "text": [
      "None\n"
     ]
    }
   ],
   "source": [
    "x_values = Northern_hemisphere[\"Lat\"]\n",
    "y_values = Northern_hemisphere[\"Cloudiness\"]\n",
    "plt.ylabel(\"Cloudiness\")\n",
    "print(linear_reg_plot(x_values,y_values))"
   ]
  },
  {
   "cell_type": "code",
   "execution_count": 95,
   "metadata": {},
   "outputs": [
    {
     "name": "stdout",
     "output_type": "stream",
     "text": [
      "The r-squared is: 0.305322986854614\n"
     ]
    },
    {
     "data": {
      "image/png": "[encoded data removed]",
      "text/plain": [
       "<Figure size 432x288 with 1 Axes>"
      ]
     },
     "metadata": {
      "needs_background": "light"
     },
     "output_type": "display_data"
    },
    {
     "name": "stdout",
     "output_type": "stream",
     "text": [
      "None\n"
     ]
    }
   ],
   "source": [
    "x_values = Southern_hemisphere[\"Lat\"]\n",
    "y_values = Southern_hemisphere[\"Cloudiness\"]\n",
    "plt.ylabel(\"Cloudiness\")\n",
    "print(linear_reg_plot(x_values,y_values))"
   ]
  },
  {
   "cell_type": "code",
   "execution_count": 96,
   "metadata": {},
   "outputs": [
    {
     "name": "stdout",
     "output_type": "stream",
     "text": [
      "The r-squared is: 0.11412450658567358\n"
     ]
    },
    {
     "data": {
      "image/png": "[encoded data removed]",
      "text/plain": [
       "<Figure size 432x288 with 1 Axes>"
      ]
     },
     "metadata": {
      "needs_background": "light"
     },
     "output_type": "display_data"
    },
    {
     "name": "stdout",
     "output_type": "stream",
     "text": [
      "None\n"
     ]
    }
   ],
   "source": [
    "x_values = Northern_hemisphere[\"Lat\"]\n",
    "y_values = Northern_hemisphere[\"Wind Speed\"]\n",
    "plt.ylabel(\"Wind Speed\")\n",
    "print(linear_reg_plot(x_values,y_values))"
   ]
  },
  {
   "cell_type": "code",
   "execution_count": 97,
   "metadata": {},
   "outputs": [
    {
     "name": "stdout",
     "output_type": "stream",
     "text": [
      "The r-squared is: -0.29327160009750836\n"
     ]
    },
    {
     "data": {
      "image/png": "[encoded data removed]",
      "text/plain": [
       "<Figure size 432x288 with 1 Axes>"
      ]
     },
     "metadata": {
      "needs_background": "light"
     },
     "output_type": "display_data"
    },
    {
     "name": "stdout",
     "output_type": "stream",
     "text": [
      "None\n"
     ]
    }
   ],
   "source": [
    "x_values = Southern_hemisphere[\"Lat\"]\n",
    "y_values = Southern_hemisphere[\"Wind Speed\"]\n",
    "plt.ylabel(\"Wind Speed\")\n",
    "print(linear_reg_plot(x_values,y_values))"
   ]
  }
 ],
 "metadata": {
  "anaconda-cloud": {},
  "kernel_info": {
   "name": "python3"
  },
  "kernelspec": {
   "display_name": "Python 3",
   "language": "python",
   "name": "python3"
  },
  "language_info": {
   "codemirror_mode": {
    "name": "ipython",
    "version": 3
   },
   "file_extension": ".py",
   "mimetype": "text/x-python",
   "name": "python",
   "nbconvert_exporter": "python",
   "pygments_lexer": "ipython3",
   "version": "3.6.10"
  },
  "latex_envs": {
   "LaTeX_envs_menu_present": true,
   "autoclose": false,
   "autocomplete": true,
   "bibliofile": "biblio.bib",
   "cite_by": "apalike",
   "current_citInitial": 1,
   "eqLabelWithNumbers": true,
   "eqNumInitial": 1,
   "hotkeys": {
    "equation": "Ctrl-E",
    "itemize": "Ctrl-I"
   },
   "labels_anchors": false,
   "latex_user_defs": false,
   "report_style_numbering": false,
   "user_envs_cfg": false
  },
  "nteract": {
   "version": "0.12.3"
  }
 },
 "nbformat": 4,
 "nbformat_minor": 2
}
